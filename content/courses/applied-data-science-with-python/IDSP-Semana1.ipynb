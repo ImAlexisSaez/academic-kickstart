{
 "cells": [
  {
   "cell_type": "markdown",
   "metadata": {},
   "source": [
    "## 1. ''Introduction to Specialization''\n",
    "\n",
    "La dificultad de la presente especialización es de nivel intermedio, ya que requiere que poseamos familiaridad con ciertos conceptos de programación (en *Python* fundamentalmente) y estadística.\n",
    "\n",
    "*Python* ha sido el lenguaje de programación escogido porque:\n",
    "\n",
    "- es fácil de aprender, destacando por la gran legibilidad de su código;\n",
    "- cuenta con cientos de librerías disponibles para desarrollar las tareas más diversas; y\n",
    "- posee potentes librerías para trabajar en las tareas propias de la *Ciencia de Datos* (el ecosistema *SciPy*).\n",
    "\n",
    "El primer curso de la especialización, **Introduction to Data Science in Python**, está compuesto por los siguientes cuatro módulos:\n",
    "\n",
    "1. Prerrequisitos de *Python*.\n",
    "2. La librería *Pandas*.\n",
    "3. Consultas (''*querying*'') y manipulaciones avanzadas con *Pandas*.\n",
    "4. Análisis estadísticos básicos con *NumPy* y *SciPy*."
   ]
  },
  {
   "cell_type": "markdown",
   "metadata": {},
   "source": [
    "## 2. ''Data Science''\n",
    "\n",
    "La popularidad de la *Ciencia de Datos* ha crecido exponencialmente, hecho que podemos confirmar experimentalmente nosotros mismos si acudimos a la web de *Google Trends* y buscamos el término ''*data science*''.\n",
    "\n",
    "Este interés queda justificado por la actual era de la información en la que vivimos, con compañías que utilizan de manera intensiva las diversas teorías de esta disciplina, como son *Google*, *Facebook*, *Netflix*...\n",
    "\n",
    "La *Ciencia de Datos* se describe habitualmente, de manera gráfica, mediante el diagrama de *Drew Conway*:\n",
    "\n",
    "![Diagrama de Drew Conway sobre Ciencia de Datos](week1-img01.png)\n",
    "\n",
    "No obstante, conceptos como ''escepticismo'', ''experimentación'', ''simulación'' o ''replicación'', entre otros, también tienen cabida en esta disciplina.\n",
    "\n",
    "Es recomendable la lectura del artículo ''*50 years of Data Science*'' ([enlace](http://courses.csail.mit.edu/18.337/2015/docs/50YearsDataScience.pdf)), de la mano de David Donoho, y en el cual figuran las siguientes seis etapas que componen un proyecto de *Ciencia de Datos*:\n",
    "\n",
    "1. Exploración y preparación de los datos.\n",
    "2. Representación y transformación de los datos.\n",
    "3. Cálculos utilizando los datos.\n",
    "4. Modelización de los datos.\n",
    "5. Visualización y presentación de los datos.\n",
    "6. ''Ciencia'' a través de la *Ciencia de Datos*."
   ]
  },
  {
   "cell_type": "markdown",
   "metadata": {},
   "source": [
    "## 3. ''The Coursera Jupyter Notebook System''\n",
    "\n",
    "Personalmente, como la especialización la seguiré en modo ''Audit'', mi objetivo es realizar las tareas, los ejercicios e incluso los cuestionarios localmente, en lugar de a través de las herramientas que ofrece *Coursera* en la propia plataforma. Para ello, con miras a tener disponible el acceso a los distintos *notebooks* de *Jupyter*, he instalado en mi ordenador *Anaconda* ([enlace](https://www.anaconda.com/distribution/#download-section))."
   ]
  },
  {
   "cell_type": "markdown",
   "metadata": {},
   "source": [
    "## 4. ''Python functions''\n",
    "\n",
    "Familiaricémonos un poco con los *notebooks* de *Python*."
   ]
  },
  {
   "cell_type": "code",
   "execution_count": 1,
   "metadata": {},
   "outputs": [
    {
     "data": {
      "text/plain": [
       "3"
      ]
     },
     "execution_count": 1,
     "metadata": {},
     "output_type": "execute_result"
    }
   ],
   "source": [
    "x = 1\n",
    "y = 2\n",
    "x + y"
   ]
  },
  {
   "cell_type": "markdown",
   "metadata": {},
   "source": [
    "Los objetos declarados en una celda, permanecen disponibles para que trabajemos con ellos posteriormente como deseemos."
   ]
  },
  {
   "cell_type": "code",
   "execution_count": 2,
   "metadata": {},
   "outputs": [
    {
     "data": {
      "text/plain": [
       "1"
      ]
     },
     "execution_count": 2,
     "metadata": {},
     "output_type": "execute_result"
    }
   ],
   "source": [
    "x"
   ]
  },
  {
   "cell_type": "markdown",
   "metadata": {},
   "source": [
    "Refactoricemos el anterior código en una función que sume dos números:"
   ]
  },
  {
   "cell_type": "code",
   "execution_count": 3,
   "metadata": {},
   "outputs": [
    {
     "data": {
      "text/plain": [
       "3"
      ]
     },
     "execution_count": 3,
     "metadata": {},
     "output_type": "execute_result"
    }
   ],
   "source": [
    "def add_numbers(x, y):\n",
    "    return x + y\n",
    "\n",
    "add_numbers(1, 2)"
   ]
  },
  {
   "cell_type": "markdown",
   "metadata": {},
   "source": [
    "**Ejercicio**: modifica la anterior función para que acepte tres parámetros, en lugar de dos, y devuelva la suma de todos ellos."
   ]
  },
  {
   "cell_type": "code",
   "execution_count": 4,
   "metadata": {},
   "outputs": [
    {
     "data": {
      "text/plain": [
       "6"
      ]
     },
     "execution_count": 4,
     "metadata": {},
     "output_type": "execute_result"
    }
   ],
   "source": [
    "def add_numbers(x, y, z):\n",
    "    return x + y + z\n",
    "\n",
    "add_numbers(1, 2, 3)"
   ]
  },
  {
   "cell_type": "markdown",
   "metadata": {},
   "source": [
    "Así definida la función `add_numbers()`, pierde la funcionalidad de sumar únicamente dos números, ya que *Python* arrojaría un error si solo le pasamos el valor de dos argumentos. Podemos solventar esta situación si el tercer parámetro declarado, `z`, queda como opcional.\n",
    "\n",
    "*Nota*: los parámetros opcionales de una función figuran los últimos en la declaración de esta."
   ]
  },
  {
   "cell_type": "code",
   "execution_count": 5,
   "metadata": {},
   "outputs": [
    {
     "data": {
      "text/plain": [
       "3"
      ]
     },
     "execution_count": 5,
     "metadata": {},
     "output_type": "execute_result"
    }
   ],
   "source": [
    "def add_numbers(x, y, z=None):\n",
    "    if z == None:\n",
    "        return x + y\n",
    "    else:\n",
    "        return x + y + z\n",
    "    \n",
    "add_numbers(1, 2)"
   ]
  },
  {
   "cell_type": "code",
   "execution_count": 6,
   "metadata": {},
   "outputs": [
    {
     "data": {
      "text/plain": [
       "6"
      ]
     },
     "execution_count": 6,
     "metadata": {},
     "output_type": "execute_result"
    }
   ],
   "source": [
    "add_numbers(1, 2, 3)"
   ]
  },
  {
   "cell_type": "markdown",
   "metadata": {},
   "source": [
    "Para imprimir múltiples valores como resultado de una celda en un *notebook* de *Jupyter*, podemos recurrir a la función `print()`."
   ]
  },
  {
   "cell_type": "code",
   "execution_count": 7,
   "metadata": {},
   "outputs": [
    {
     "name": "stdout",
     "output_type": "stream",
     "text": [
      "5\n",
      "9\n"
     ]
    }
   ],
   "source": [
    "print(add_numbers(2, 3))\n",
    "print(add_numbers(2, 3, 4))"
   ]
  },
  {
   "cell_type": "markdown",
   "metadata": {},
   "source": [
    "Podemos asignar a variables los valores que una función devuelve."
   ]
  },
  {
   "cell_type": "code",
   "execution_count": 8,
   "metadata": {},
   "outputs": [],
   "source": [
    "def add_numbers(x, y, z=None, flag=False):\n",
    "    if flag:\n",
    "        print(\"El valor de flag es verdadero.\")\n",
    "    if z == None:\n",
    "        return x + y\n",
    "    else:\n",
    "        return x + y + z"
   ]
  },
  {
   "cell_type": "code",
   "execution_count": 9,
   "metadata": {},
   "outputs": [
    {
     "name": "stdout",
     "output_type": "stream",
     "text": [
      "3\n"
     ]
    }
   ],
   "source": [
    "a = add_numbers(1, 2)\n",
    "print(a)"
   ]
  },
  {
   "cell_type": "code",
   "execution_count": 10,
   "metadata": {},
   "outputs": [
    {
     "name": "stdout",
     "output_type": "stream",
     "text": [
      "El valor de flag es verdadero.\n",
      "6\n"
     ]
    }
   ],
   "source": [
    "b = add_numbers(1, 2, 3, True)\n",
    "print(b)"
   ]
  },
  {
   "cell_type": "markdown",
   "metadata": {},
   "source": [
    "En ocasiones, puede resultarnos útil que en la llamada a la función aparezca el nombre de algunos (o todos) de sus parámetros juntos con el valor asignado, puesto que aporta bastante legibilidad."
   ]
  },
  {
   "cell_type": "code",
   "execution_count": 11,
   "metadata": {},
   "outputs": [
    {
     "name": "stdout",
     "output_type": "stream",
     "text": [
      "El valor de flag es verdadero.\n",
      "6\n"
     ]
    }
   ],
   "source": [
    "c = add_numbers(x=1, y=2, z=3, flag=True)\n",
    "print(c)"
   ]
  },
  {
   "cell_type": "markdown",
   "metadata": {},
   "source": [
    "**Ejercicio**: reescribe la siguiente función para que funcione de manera correcta. Esta función debería sumar dos números si el valor del parámetro `kind` es `\"add\"` o si este no se le suministra. En caso contrario, debe restar al primer número el segundo.\n",
    "\n",
    "```python\n",
    "def do_math(?, ?, ?):\n",
    "  if (kind=='add'):\n",
    "    return a+b\n",
    "  else:\n",
    "    return a-b\n",
    "\n",
    "do_math(1, 2)\n",
    "```"
   ]
  },
  {
   "cell_type": "code",
   "execution_count": 12,
   "metadata": {},
   "outputs": [
    {
     "data": {
      "text/plain": [
       "3"
      ]
     },
     "execution_count": 12,
     "metadata": {},
     "output_type": "execute_result"
    }
   ],
   "source": [
    "def do_math(a, b, kind=\"add\"):\n",
    "    if kind == \"add\":\n",
    "        return a + b\n",
    "    else:\n",
    "        return a - b\n",
    "\n",
    "do_math(1, 2)"
   ]
  },
  {
   "cell_type": "markdown",
   "metadata": {},
   "source": [
    "## 5. Python Types and Sequences"
   ]
  },
  {
   "cell_type": "code",
   "execution_count": null,
   "metadata": {},
   "outputs": [],
   "source": []
  }
 ],
 "metadata": {
  "kernelspec": {
   "display_name": "Python 3",
   "language": "python",
   "name": "python3"
  },
  "language_info": {
   "codemirror_mode": {
    "name": "ipython",
    "version": 3
   },
   "file_extension": ".py",
   "mimetype": "text/x-python",
   "name": "python",
   "nbconvert_exporter": "python",
   "pygments_lexer": "ipython3",
   "version": "3.7.3"
  }
 },
 "nbformat": 4,
 "nbformat_minor": 2
}
